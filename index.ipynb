{
 "cells": [
  {
   "cell_type": "markdown",
   "id": "170bbd51-02ba-45b7-85ce-9ef71e03bdb8",
   "metadata": {},
   "source": [
    "# Index \n",
    "## Birth Months, Test Scores, Salaries, and Crime"
   ]
  },
  {
   "cell_type": "markdown",
   "id": "197a9b92-4fc6-428d-bdf0-7131456e1222",
   "metadata": {},
   "source": [
    " - [Average Arrests](arrests.html)\n",
    " - [Average ASVAB Test Percentile](asvab.html)\n",
    " - [Average PIAT Test Percentile](piat.html)\n",
    " - [Average Salary Score Percentile](salary.html)\n"
   ]
  },
  {
   "cell_type": "code",
   "execution_count": null,
   "id": "dd95703e-55c7-4ea9-ab82-13f256daa5ec",
   "metadata": {},
   "outputs": [],
   "source": []
  }
 ],
 "metadata": {
  "kernelspec": {
   "display_name": "Python 3 (ipykernel)",
   "language": "python",
   "name": "python3"
  },
  "language_info": {
   "codemirror_mode": {
    "name": "ipython",
    "version": 3
   },
   "file_extension": ".py",
   "mimetype": "text/x-python",
   "name": "python",
   "nbconvert_exporter": "python",
   "pygments_lexer": "ipython3",
   "version": "3.10.13"
  }
 },
 "nbformat": 4,
 "nbformat_minor": 5
}
